{
 "cells": [
  {
   "cell_type": "code",
   "execution_count": null,
   "id": "5fe582da",
   "metadata": {},
   "outputs": [],
   "source": [
    "import numpy as np\n",
    "import matplotlib.pyplot as plt"
   ]
  },
  {
   "cell_type": "code",
   "execution_count": null,
   "id": "c8e86979",
   "metadata": {},
   "outputs": [],
   "source": [
    "def amp(Fo, k, m, fdr, b):\n",
    "    '''\n",
    "    A funtion to calculate the amplitue of the oscillation\n",
    "    '''\n",
    "    denom = np.sqrt((k - m*(2*np.pi*fdr)**2)**2 + ((2*np.pi*fdr)**2)*b**2)\n",
    "    return Fo/denom\n",
    "\n",
    "def natural(k, m):\n",
    "    '''\n",
    "    A function to calculate the natural frequency\n",
    "    '''\n",
    "    return 1/(2*np.pi)*np.sqrt(k/m)"
   ]
  },
  {
   "cell_type": "markdown",
   "id": "1603564a",
   "metadata": {},
   "source": [
    "Working out the solution to question 2 a"
   ]
  },
  {
   "cell_type": "code",
   "execution_count": null,
   "id": "7e6c07de",
   "metadata": {},
   "outputs": [],
   "source": [
    "k = 2 #N/m\n",
    "m = 4 #kg\n",
    "b = 1 #N/m\n",
    "fdr = np.pi\n",
    "\n",
    "amp(4, k, m, fdr, b)"
   ]
  },
  {
   "cell_type": "code",
   "execution_count": null,
   "id": "71812ecc",
   "metadata": {},
   "outputs": [],
   "source": [
    "amp(4, k, m, fdr, b) * 0.75"
   ]
  },
  {
   "cell_type": "markdown",
   "id": "b75614b2",
   "metadata": {},
   "source": [
    "Working out the solution to question 2 b"
   ]
  },
  {
   "cell_type": "code",
   "execution_count": null,
   "id": "c3f3651c",
   "metadata": {},
   "outputs": [],
   "source": [
    "natural(k, m)"
   ]
  },
  {
   "cell_type": "code",
   "execution_count": null,
   "id": "64c28385",
   "metadata": {},
   "outputs": [],
   "source": [
    "amp(4, k, m, natural(k, m), b)"
   ]
  },
  {
   "cell_type": "markdown",
   "id": "25e531d6",
   "metadata": {},
   "source": [
    " Final part of question 2"
   ]
  },
  {
   "cell_type": "code",
   "execution_count": null,
   "id": "638b3d6d",
   "metadata": {
    "scrolled": false
   },
   "outputs": [],
   "source": [
    "b = 1\n",
    "x = np.arange(0, 0.5, 0.001)\n",
    "plt.plot(x, amp(5, k, m, x, b), label='Damping = %5.2f'%b)\n",
    "    \n",
    "plt.legend()"
   ]
  },
  {
   "cell_type": "code",
   "execution_count": null,
   "id": "03f43579",
   "metadata": {},
   "outputs": [],
   "source": []
  }
 ],
 "metadata": {
  "kernelspec": {
   "display_name": "Python 3 (ipykernel)",
   "language": "python",
   "name": "python3"
  },
  "language_info": {
   "codemirror_mode": {
    "name": "ipython",
    "version": 3
   },
   "file_extension": ".py",
   "mimetype": "text/x-python",
   "name": "python",
   "nbconvert_exporter": "python",
   "pygments_lexer": "ipython3",
   "version": "3.8.13"
  }
 },
 "nbformat": 4,
 "nbformat_minor": 5
}
