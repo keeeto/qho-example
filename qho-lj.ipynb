{
 "cells": [
  {
   "cell_type": "markdown",
   "id": "5f9c1bed",
   "metadata": {},
   "source": [
    "# Visualizing the solutions of harmonic oscillator problem"
   ]
  },
  {
   "cell_type": "code",
   "execution_count": null,
   "id": "9782ab0a",
   "metadata": {},
   "outputs": [],
   "source": [
    "# First load the numpy/scipy/matplotlib\n",
    "import numpy as np\n",
    "import matplotlib.pyplot as plt\n",
    "\n",
    "%matplotlib inline\n",
    "\n",
    "#load interactive widgets\n",
    "import ipywidgets as widgets\n",
    "from IPython.display import display\n",
    "\n",
    "#If your screen has retina display this will increase resolution of plots\n",
    "%config InlineBackend.figure_format = 'retina'\n",
    "plt.style.use('ggplot')"
   ]
  },
  {
   "cell_type": "markdown",
   "id": "8321c216",
   "metadata": {},
   "source": [
    "## Eigenfunctions and eigenvalues of Harmonic oscillator problem\n",
    "\n",
    "The harmonic oscillator is often used as an approximate model for the behaviour of some quantum systems, for example the vibrations of a diatomic molecule. Potential energy is a simple quadratic function of dsiplacement:\n",
    "\n",
    "$V(x) = \\frac{1}{2}kx^2$\n",
    "\n",
    "The Schrödinger equation for a particle of mass m moving in one dimension in a potential\n",
    "\n",
    "$\\psi(x) = -\\frac{\\hbar^2}{2m}\\frac{d}{dx^2} + \\frac{1}{2}kx^2$\n",
    "\n",
    "The eigenfunctions are expressed in terms of Hermite polynomials $H_v(x)$, special functions well known in mathematical physics. Where $N_v$ is a normalization factor.\n",
    "\n",
    "$\\psi(x) = N_vH_v(x)e^{-x^2/2}$\n",
    "\n",
    "$H_v(x) = (−1)^v(e^{x^2})\\frac{d^v}{dx^v}(e^{-x^2})$\n",
    "\n",
    "$N_v = (\\sqrt{\\pi}2^v v!)^{-1/2}$ \n",
    "\n",
    "| Table of the first 4 Hermite Polynomials |\n",
    "|------------------------------------------|\n",
    "| $H_0 = 1$                                |\n",
    "| $H_1 = 2x$                               |\n",
    "| $H_2 = 4x^2 - 2$                         |\n",
    "| $H_3 = 8x^3 - 12$                        |\n",
    "\n",
    "## Plotting hermite polynomials using scipy and numpy and matplotlib\n",
    "\n",
    "The `scipy.special` has large collection of special functions inclduing hermite polynomials! While polynomials listed in the table are simple enough to hand type we are going to be lazy and use `scipy.special.hermite` wich provides us with polynomials of any degree to use in numerical calculations!"
   ]
  },
  {
   "cell_type": "code",
   "execution_count": null,
   "id": "4d6cfb7e",
   "metadata": {},
   "outputs": [],
   "source": [
    "# Import hermite polynomials and factorial to use in normalization factor\n",
    "from scipy.special import hermite\n",
    "from math import factorial\n",
    "\n",
    "#Check to see if they match the table\n",
    "H=hermite(3)\n",
    "print(H)"
   ]
  },
  {
   "cell_type": "markdown",
   "id": "5abaf937",
   "metadata": {},
   "source": [
    "Now let us plot hermite polynomials Hv(x) on some range of values x"
   ]
  },
  {
   "cell_type": "code",
   "execution_count": null,
   "id": "1269dc69",
   "metadata": {},
   "outputs": [],
   "source": [
    "x=np.linspace(-2,2,1000) # Range needs to be specified for plotting functions of x\n",
    "\n",
    "plt.figure(figsize=(7, 6))\n",
    "for v in range(0,3):\n",
    "    \n",
    "    H=hermite(v)\n",
    "    \n",
    "    f=H(x)\n",
    "    \n",
    "    plt.plot(x,f, label='v=%i'%v, lw=2)\n",
    "\n",
    "plt.xlabel('x')\n",
    "plt.ylabel(r'$H_n(x)$')\n",
    "plt.legend()"
   ]
  },
  {
   "cell_type": "markdown",
   "id": "55a34ddd",
   "metadata": {},
   "source": [
    "## Harmonic Oscillator wave functions\n",
    "\n",
    "Now we can write down harmonic oscillator wave functions which are product of Hermite polynomials with a gaussian function and normalization factor:"
   ]
  },
  {
   "cell_type": "code",
   "execution_count": null,
   "id": "26bb3e68",
   "metadata": {},
   "outputs": [],
   "source": [
    "def N(v):\n",
    "    '''Normalization constant '''\n",
    "    \n",
    "    return 1./np.sqrt(np.sqrt(np.pi)*2**v*factorial(v))\n",
    "\n",
    "def psi(v, x):\n",
    "    \"\"\"Harmonic oscillator wavefunction for level v computed on grid of points x\"\"\"\n",
    "    \n",
    "    Hr=hermite(v)\n",
    "    \n",
    "    Psix = N(v)*Hr(x)*np.exp(-0.5*x**2)\n",
    "    \n",
    "    return Psix"
   ]
  },
  {
   "cell_type": "markdown",
   "id": "849887a7",
   "metadata": {},
   "source": [
    "## Visualize eigenfunctions of harmonic oscillator"
   ]
  },
  {
   "cell_type": "code",
   "execution_count": null,
   "id": "345c3acf",
   "metadata": {},
   "outputs": [],
   "source": [
    "@widgets.interact(v=(0,50))\n",
    "\n",
    "\n",
    "def plot_psi(v=0):\n",
    "    \n",
    "    x=np.linspace(-10,10,1000)\n",
    "    \n",
    "    y= psi(v,x)\n",
    "    plt.figure(figsize=(7, 6))\n",
    "    plt.plot(x,y,lw=2)\n",
    "    \n",
    "    plt.grid('on')  \n",
    "    plt.xlabel('x',fontsize=16)\n",
    "    plt.ylabel('$\\psi_n(x)$',fontsize=16)"
   ]
  },
  {
   "cell_type": "markdown",
   "id": "59244122",
   "metadata": {},
   "source": [
    "## Exercise \n",
    "    create the same function as above - but for the probability of finding the particle at x\n"
   ]
  },
  {
   "cell_type": "code",
   "execution_count": null,
   "id": "ad83b548",
   "metadata": {},
   "outputs": [],
   "source": []
  },
  {
   "cell_type": "markdown",
   "id": "a8d50bd8",
   "metadata": {},
   "source": [
    "## Plot Eigenvalues and eigenfunctions of harmonic oscillator"
   ]
  },
  {
   "cell_type": "code",
   "execution_count": null,
   "id": "905ade6f",
   "metadata": {},
   "outputs": [],
   "source": [
    "def E(v):\n",
    "    '''Eigenvalues in units of h'''\n",
    "    \n",
    "    return (v + 0.5)\n",
    "\n",
    "def V(x):\n",
    "    \"\"\"Potential energy function\"\"\"\n",
    "    \n",
    "    return 0.5*x**2"
   ]
  },
  {
   "cell_type": "markdown",
   "id": "e6fe9e3e",
   "metadata": {},
   "source": [
    "First we decide on how many levels to plot and what is the range for x."
   ]
  },
  {
   "cell_type": "code",
   "execution_count": null,
   "id": "191afbc9",
   "metadata": {},
   "outputs": [],
   "source": [
    "# plot up to level vmax\n",
    "VMAX=8 \n",
    "\n",
    "# Range of x determine by classical tunring points:\n",
    "xmin, xmax = -np.sqrt(2*E(VMAX)), np.sqrt(2*E(VMAX))\n",
    "\n",
    "x = np.linspace(xmin, xmax, 1000)"
   ]
  },
  {
   "cell_type": "markdown",
   "id": "204270ab",
   "metadata": {},
   "source": [
    "Next we plot classical potential and then plot eigenfunctions padded up by eigenvalues to have textbook like picture"
   ]
  },
  {
   "cell_type": "code",
   "execution_count": null,
   "id": "dd11266b",
   "metadata": {},
   "outputs": [],
   "source": [
    "fig, ax = plt.subplots(figsize=(8,8))\n",
    "\n",
    "for v in range(8):\n",
    "     \n",
    "    # plot potential V(x)\n",
    "    ax.plot(x,V(x),color='black')\n",
    "    \n",
    "    # plot psi squared which we shift up by values of energy\n",
    "    ax.plot(x,psi(v,x) + E(v), lw=2)\n",
    "    \n",
    "    # add lines and labels\n",
    "    ax.axhline(E(v), color='gray', linestyle='--') \n",
    "    ax.text(xmax, 1.2*E(v), f\"v={v}\")\n",
    "\n",
    "    \n",
    "ax.set_xlabel('x')\n",
    "ax.set_ylabel('$\\psi_n(x)$')"
   ]
  },
  {
   "cell_type": "markdown",
   "id": "61183d7b",
   "metadata": {},
   "source": [
    "## Exercise \n",
    "    create the same plot as above but for the probabilities"
   ]
  },
  {
   "cell_type": "code",
   "execution_count": null,
   "id": "60989e44",
   "metadata": {},
   "outputs": [],
   "source": []
  },
  {
   "cell_type": "markdown",
   "id": "77213ae3",
   "metadata": {},
   "source": [
    "# The Lennard Jones Potential\n",
    "\n",
    "Below is a script to plot the Lennard Jones Potential"
   ]
  },
  {
   "cell_type": "code",
   "execution_count": null,
   "id": "94af0e5e",
   "metadata": {},
   "outputs": [],
   "source": [
    "# Boltzmann's constant, J/K\n",
    "kB = 1.381e-23\n",
    "\n",
    "# The Lennard-Jones parameters:\n",
    "A = 1.582e-26   # J.nm^12\n",
    "B = 1.024e-23   # J.nm^6\n",
    "\n",
    "\n",
    "# Adjust the units of A and B - they have more manageable values\n",
    "# in K.nm^6 and K.nm^12\n",
    "A, B = A / kB, B / kB\n",
    "\n",
    "# Interatomic distance, in nm\n",
    "r = np.linspace(0.3, 1, 1000)\n",
    "# Interatomic potential\n",
    "U = A/r**12 - B/r**6\n",
    "\n",
    "\n",
    "plt.plot(r, U, lw=2, label=r'U(r)')\n",
    "plt.xlim(0.3, 0.8)\n",
    "plt.ylim(-150, 100)\n",
    "\n",
    "\n",
    "plt.show()"
   ]
  },
  {
   "cell_type": "markdown",
   "id": "7e92b466",
   "metadata": {},
   "source": [
    "## Explore the effects of changing A\n",
    "\n",
    "A loop over a range of different A values"
   ]
  },
  {
   "cell_type": "code",
   "execution_count": null,
   "id": "4f960115",
   "metadata": {},
   "outputs": [],
   "source": [
    "for A in np.arange(1e-26, 2e-26, 1e-27):\n",
    "# The Lennard-Jones parameters:\n",
    "#A = 1.582e-26   # J.nm^12\n",
    "    B = 1.024e-23   # J.nm^6\n",
    "\n",
    "\n",
    "# Adjust the units of A and B - they have more manageable values\n",
    "# in K.nm^6 and K.nm^12\n",
    "    A, B = A / kB, B / kB\n",
    "\n",
    "# Interatomic distance, in nm\n",
    "    r = np.linspace(0.3, 1, 1000)\n",
    "# Interatomic potential\n",
    "    U = A/r**12 - B/r**6\n",
    "\n",
    "\n",
    "    plt.plot(r, U, lw=2, label=r'A = %10.7f' % A)\n",
    "    plt.xlim(0.3, 0.8)\n",
    "    plt.ylim(-200, 100)\n",
    "\n",
    "plt.legend()\n",
    "plt.show()"
   ]
  },
  {
   "cell_type": "markdown",
   "id": "ba401d5d",
   "metadata": {},
   "source": [
    "## Exercises\n",
    "    a) try to set up a plot where you explore the effect of changing the parameter B\n",
    "    b) set up the same plot, but for the force rather than the energy"
   ]
  },
  {
   "cell_type": "code",
   "execution_count": null,
   "id": "9398475c",
   "metadata": {},
   "outputs": [],
   "source": []
  },
  {
   "cell_type": "code",
   "execution_count": null,
   "id": "4877ced0",
   "metadata": {},
   "outputs": [],
   "source": []
  },
  {
   "cell_type": "markdown",
   "id": "26f5e3ed",
   "metadata": {},
   "source": [
    "## Comparing the LJ and Harmonic Potential"
   ]
  },
  {
   "cell_type": "code",
   "execution_count": null,
   "id": "a157e5dd",
   "metadata": {},
   "outputs": [],
   "source": [
    "# The Lennard-Jones parameters:\n",
    "A = 1.582e-26   # J.nm^12\n",
    "B = 1.024e-23   # J.nm^6\n",
    "\n",
    "\n",
    "# Adjust the units of A and B - they have more manageable values\n",
    "# in K.nm^6 and K.nm^12\n",
    "kB = 1.381e-23  # Boltzmann's constant, J/K\n",
    "A, B = A / kB, B / kB\n",
    "\n",
    "# Interatomic distance, in nm\n",
    "r = np.linspace(0.3, 1., 1000)\n",
    "# Interatomic potential\n",
    "U = A/r**12 - B/r**6\n",
    "\n",
    "plt.plot(r, U, lw=2., label='Lennard-Jones')\n",
    "\n",
    "r0 = (2*A/B)**(1./6)\n",
    "epsilon = A/r0**12 - B/r0**6\n",
    "k = 156*A/r0**14 - 42*B/r0**8\n",
    "V = 0.5 * k * (r-r0)**2 + epsilon\n",
    "plt.plot(r, V, ls=':', lw=2., label='Harmonic approximation')\n",
    "\n",
    "plt.xlim(0.3, 0.6)\n",
    "plt.ylim(-120, 0)\n",
    "plt.xlabel('r / nm')\n",
    "plt.ylabel('Potential energy / K')\n",
    "\n",
    "plt.legend(loc=4)\n",
    "\n",
    "plt.show()"
   ]
  },
  {
   "cell_type": "markdown",
   "id": "4894d1f2",
   "metadata": {},
   "source": [
    "## Exercise \n",
    "    use the information above to work out the region of r where the difference between Harmonic and Lennard-Jones is less than 100"
   ]
  },
  {
   "cell_type": "code",
   "execution_count": null,
   "id": "bf11052a",
   "metadata": {},
   "outputs": [],
   "source": []
  },
  {
   "cell_type": "markdown",
   "id": "ce5abb40",
   "metadata": {},
   "source": [
    "## Exercise \n",
    "    Protein Ligand Question from worksheet"
   ]
  },
  {
   "cell_type": "code",
   "execution_count": null,
   "id": "ba902f6d",
   "metadata": {},
   "outputs": [],
   "source": [
    "# The Lennard-Jones parameters:\n",
    "A = 0.001\n",
    "B = 0.5\n",
    "\n",
    "# Interatomic distance, in nm\n",
    "r = np.linspace(0.3, 1., 1000)\n",
    "# Interatomic potential\n",
    "U = A/r**12 - B/r**6\n",
    "\n",
    "plt.plot(r, U, lw=2., label='Lennard-Jones')\n",
    "\n",
    "k = 10000\n",
    "r0 = 0.4\n",
    "V = 0.5 * k * (r-r0)**2 #+ epsilon\n",
    "plt.plot(r, V, ls=':', lw=2., label='Harmonic approximation')\n",
    "\n",
    "#plt.xlim(0.3, 0.6)\n",
    "plt.ylim(-100, 200)\n",
    "plt.xlabel('r / nm')\n",
    "plt.ylabel('Potential energy / K')\n",
    "\n",
    "plt.legend(loc=4)\n",
    "\n",
    "plt.show()"
   ]
  }
 ],
 "metadata": {
  "kernelspec": {
   "display_name": "Python 3 (ipykernel)",
   "language": "python",
   "name": "python3"
  },
  "language_info": {
   "codemirror_mode": {
    "name": "ipython",
    "version": 3
   },
   "file_extension": ".py",
   "mimetype": "text/x-python",
   "name": "python",
   "nbconvert_exporter": "python",
   "pygments_lexer": "ipython3",
   "version": "3.8.13"
  }
 },
 "nbformat": 4,
 "nbformat_minor": 5
}
